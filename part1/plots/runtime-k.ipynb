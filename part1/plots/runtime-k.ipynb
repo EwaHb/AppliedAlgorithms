{
 "metadata": {
  "language_info": {
   "codemirror_mode": {
    "name": "ipython",
    "version": 3
   },
   "file_extension": ".py",
   "mimetype": "text/x-python",
   "name": "python",
   "nbconvert_exporter": "python",
   "pygments_lexer": "ipython3",
   "version": 3
  },
  "orig_nbformat": 2
 },
 "nbformat": 4,
 "nbformat_minor": 2,
 "cells": [
  {
   "cell_type": "code",
   "execution_count": null,
   "metadata": {},
   "outputs": [],
   "source": [
    "import pandas as pd\n",
    "import seaborn as sns\n",
    "\n",
    "df = pd.read_csv(\"../results/runtime-k.csv\",delimiter=\",\")\n",
    "ax = sns.lineplot( data=df, x='K', y='Running time')\n",
    "ax.set(yLabel=\"Average query time\")\n",
    "ax.get_figure().savefig(\"runtime-k-results.png\")"
   ]
  }
 ]
}